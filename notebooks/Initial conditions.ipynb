{
 "cells": [
  {
   "cell_type": "code",
   "execution_count": null,
   "metadata": {
    "collapsed": true
   },
   "outputs": [],
   "source": [
    "import astropy.units as u\n",
    "import numpy as np\n",
    "import matplotlib.pyplot as plt\n",
    "plt.style.use('apw-notebook')\n",
    "%matplotlib inline\n",
    "\n",
    "import gala.dynamics as gd\n",
    "import gala.potential as gp\n",
    "import gala.integrate as gi\n",
    "from gala.units import galactic"
   ]
  },
  {
   "cell_type": "code",
   "execution_count": null,
   "metadata": {
    "collapsed": true
   },
   "outputs": [],
   "source": [
    "pot = gp.MilkyWayPotential()\n",
    "frame = gp.ConstantRotatingFrame(Omega=[0,0,-42.]*u.km/u.s/u.kpc,\n",
    "                                 units=galactic)\n",
    "H = gp.Hamiltonian(potential=pot, frame=frame)"
   ]
  },
  {
   "cell_type": "code",
   "execution_count": null,
   "metadata": {},
   "outputs": [],
   "source": [
    "# Third-party\n",
    "import numpy as np\n",
    "from scipy.optimize import minimize\n",
    "\n",
    "def tube_grid_xz(EJ, hamiltonian, dx=1., dz=1.):\n",
    "    \n",
    "    # find maximum x on z=0\n",
    "    def func(x):\n",
    "        return (EJ - hamiltonian.energy(np.array([[x[0],0,0]])).value[0])**2\n",
    "    res = minimize(func, x0=[10.], method='powell')\n",
    "    if not res.success:\n",
    "        raise ValueError(\"Failed to find boundary of ZVC on x-axis.\")\n",
    "    max_x = res.x\n",
    "\n",
    "    xgrid = np.arange(0.1, max_x+dx, dx)\n",
    "\n",
    "    # compute ZVC boundary for each x\n",
    "    for xg in xgrid:\n",
    "        # find maximum allowed z along x=xx\n",
    "        def func(x):\n",
    "            return (EJ - hamiltonian.energy(np.array([[xg,0,x[0]]])).value[0])**2\n",
    "        res = minimize(func, x0=[25.], method='powell')\n",
    "        max_z = np.abs(res.x)\n",
    "        if not res.success or max_z == 25.:\n",
    "            vals = np.linspace(0.1,100)\n",
    "            plt.clf()\n",
    "            plt.plot(vals,[func([derp]) for derp in vals])\n",
    "            plt.show()\n",
    "            raise ValueError(\"Failed to find boundary of ZVC for x={}.\".format(xg))\n",
    "\n",
    "        # logger.debug(\"Max. z: {}\".format(max_z))\n",
    "        zgrid = np.arange(0.1, max_z, dz)\n",
    "        xs = np.zeros_like(zgrid) + xg\n",
    "        try:\n",
    "            xz = np.hstack((xz, np.vstack((xs,zgrid))))\n",
    "        except NameError:\n",
    "            xz = np.vstack((xs,zgrid))\n",
    "\n",
    "    xyz = np.zeros((3, xz.shape[-1]))\n",
    "    xyz[0] = xz[0]\n",
    "    xyz[2] = xz[1]\n",
    "\n",
    "    # now, for each grid point, compute the y velocity\n",
    "    vxyz = np.zeros_like(xyz)\n",
    "    Omz = hamiltonian.frame.parameters['Omega'][2].to(1/u.Myr).value\n",
    "    Phi = hamiltonian.potential.energy(xyz).value\n",
    "    vxyz[1] = (Omz * xz[0] + np.sqrt(Omz**2*xz[0]**2 - (Phi - EJ)))\n",
    "\n",
    "    return np.concatenate((xyz, vxyz), axis=0)"
   ]
  },
  {
   "cell_type": "code",
   "execution_count": null,
   "metadata": {},
   "outputs": [],
   "source": [
    "w0 = gd.PhaseSpacePosition(pos=[8.,0,0]*u.kpc,\n",
    "                           vel=[0,170.,35.]*u.km/u.s)\n",
    "H.energy(w0).value[0]"
   ]
  },
  {
   "cell_type": "code",
   "execution_count": null,
   "metadata": {},
   "outputs": [],
   "source": [
    "w = tube_grid_xz(-0.088904381, H)"
   ]
  },
  {
   "cell_type": "code",
   "execution_count": null,
   "metadata": {},
   "outputs": [],
   "source": [
    "plt.figure(figsize=(6,6))\n",
    "plt.scatter(w[0], w[2])\n",
    "plt.xlim(-1, 40)\n",
    "plt.ylim(-1, 40)"
   ]
  },
  {
   "cell_type": "code",
   "execution_count": null,
   "metadata": {
    "collapsed": true
   },
   "outputs": [],
   "source": []
  },
  {
   "cell_type": "code",
   "execution_count": null,
   "metadata": {
    "collapsed": true
   },
   "outputs": [],
   "source": []
  },
  {
   "cell_type": "code",
   "execution_count": null,
   "metadata": {
    "collapsed": true
   },
   "outputs": [],
   "source": []
  },
  {
   "cell_type": "code",
   "execution_count": null,
   "metadata": {
    "collapsed": true
   },
   "outputs": [],
   "source": []
  }
 ],
 "metadata": {
  "kernelspec": {
   "display_name": "Python [conda env:barchaos]",
   "language": "python",
   "name": "conda-env-barchaos-py"
  },
  "language_info": {
   "codemirror_mode": {
    "name": "ipython",
    "version": 3
   },
   "file_extension": ".py",
   "mimetype": "text/x-python",
   "name": "python",
   "nbconvert_exporter": "python",
   "pygments_lexer": "ipython3",
   "version": "3.6.2"
  }
 },
 "nbformat": 4,
 "nbformat_minor": 2
}