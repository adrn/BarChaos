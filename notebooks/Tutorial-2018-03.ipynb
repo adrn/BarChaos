{
 "cells": [
  {
   "cell_type": "markdown",
   "metadata": {},
   "source": [
    "_Imports we'll need for later:_"
   ]
  },
  {
   "cell_type": "code",
   "execution_count": null,
   "metadata": {
    "collapsed": true
   },
   "outputs": [],
   "source": [
    "import astropy.units as u\n",
    "import numpy as np\n",
    "import matplotlib.pyplot as plt\n",
    "%matplotlib inline\n",
    "\n",
    "import biff\n",
    "import gala.dynamics as gd\n",
    "import gala.potential as gp\n",
    "import gala.integrate as gi\n",
    "from gala.units import galactic"
   ]
  },
  {
   "cell_type": "markdown",
   "metadata": {},
   "source": [
    "## Integrating orbits in a rotating frame:\n",
    "\n",
    "To do this, we have to specify the rotation frequency and axis of rotation of the rotating frame. In all of our applications, we'll set the frame rotation equal to the pattern speed of the bar model we use, and we'll always assume rotation is around the $z$ axis. Let's define one such frame, assuming a pattern speed $\\Omega_p = 40~{\\rm km}~{\\rm s}^{-1}~{\\rm kpc}^{-1}$, and we'll generally work in the \"galactic\" unit system (imported above: kpc, Myr, solar masses, and radians):"
   ]
  },
  {
   "cell_type": "code",
   "execution_count": null,
   "metadata": {},
   "outputs": [],
   "source": [
    "galactic"
   ]
  },
  {
   "cell_type": "code",
   "execution_count": null,
   "metadata": {
    "collapsed": true
   },
   "outputs": [],
   "source": [
    "Om_p = 40 * u.km/u.s / u.kpc\n",
    "frame = gp.ConstantRotatingFrame([0,0,1] * Om_p, units=galactic)"
   ]
  },
  {
   "cell_type": "markdown",
   "metadata": {},
   "source": [
    "Now let's construct a simple bar model using a model with an analytic density and potential form. This was first described in a paper by Long & Murali, so the potential class is `LongMuraliBarPotential`. The parameters are:\n",
    "* `m` - total mass\n",
    "* `a` - major axis scale length ($x$ axis in our case)\n",
    "* `b` - intermediate axis scale length ($y$ axis in our case)\n",
    "* `c` - minor axis scale length  ($z$ axis in our case)\n",
    "* `alpha` - angle of the bar w.r.t. $x$-axis of rotating frame"
   ]
  },
  {
   "cell_type": "code",
   "execution_count": null,
   "metadata": {},
   "outputs": [],
   "source": [
    "bar = gp.LongMuraliBarPotential(m=1E10*u.Msun, \n",
    "                                a=1.49*u.kpc, b=0.58*u.kpc, c=0.4*u.kpc, \n",
    "                                alpha=0*u.deg,\n",
    "                                units=galactic)"
   ]
  },
  {
   "cell_type": "markdown",
   "metadata": {},
   "source": [
    "Let's plot isopotential and isodensity contours for this choice of parameters. We can use the `plot_contours()` and `plot_density_contours()` methods of the potential object. We have to specify the grid to compute the value of the potential over. If we specify a 2D grid, we then have to set the value of $z$ to slice at - here we'll use the same grid in $x$ and $y$, and slice at $z=0$:"
   ]
  },
  {
   "cell_type": "code",
   "execution_count": null,
   "metadata": {},
   "outputs": [],
   "source": [
    "xy = np.linspace(-20, 20, 128)\n",
    "grid = (xy, xy, 0)\n",
    "\n",
    "fig, axes = plt.subplots(1, 2, figsize=(12, 6))\n",
    "_ = bar.plot_contours(grid, ax=axes[0])\n",
    "_ = bar.plot_density_contours(grid, ax=axes[1])"
   ]
  },
  {
   "cell_type": "markdown",
   "metadata": {},
   "source": [
    "Now let's try changing the bar angle and see what happens:"
   ]
  },
  {
   "cell_type": "code",
   "execution_count": null,
   "metadata": {},
   "outputs": [],
   "source": [
    "bar = gp.LongMuraliBarPotential(m=1E10*u.Msun, \n",
    "                                a=1.49*u.kpc, b=0.58*u.kpc, c=0.4*u.kpc, \n",
    "                                alpha=-25*u.deg,\n",
    "                                units=galactic)\n",
    "\n",
    "fig, axes = plt.subplots(1, 2, figsize=(12, 6))\n",
    "_ = bar.plot_contours(grid, ax=axes[0])\n",
    "_ = bar.plot_density_contours(grid, ax=axes[1])"
   ]
  },
  {
   "cell_type": "code",
   "execution_count": null,
   "metadata": {
    "collapsed": true
   },
   "outputs": [],
   "source": []
  },
  {
   "cell_type": "code",
   "execution_count": null,
   "metadata": {
    "collapsed": true
   },
   "outputs": [],
   "source": []
  }
 ],
 "metadata": {
  "kernelspec": {
   "display_name": "Python [conda env:barchaos]",
   "language": "python",
   "name": "conda-env-barchaos-py"
  },
  "language_info": {
   "codemirror_mode": {
    "name": "ipython",
    "version": 3
   },
   "file_extension": ".py",
   "mimetype": "text/x-python",
   "name": "python",
   "nbconvert_exporter": "python",
   "pygments_lexer": "ipython3",
   "version": "3.6.2"
  }
 },
 "nbformat": 4,
 "nbformat_minor": 2
}