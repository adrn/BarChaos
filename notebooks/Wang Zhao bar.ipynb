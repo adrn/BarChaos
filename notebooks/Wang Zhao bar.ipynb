{
 "cells": [
  {
   "cell_type": "code",
   "execution_count": null,
   "metadata": {},
   "outputs": [],
   "source": [
    "import math\n",
    "\n",
    "# Third-party\n",
    "import astropy.units as u\n",
    "from astropy.constants import G\n",
    "import matplotlib as mpl\n",
    "import matplotlib.pyplot as plt\n",
    "plt.style.use('apw-notebook')\n",
    "import numpy as np\n",
    "%matplotlib inline\n",
    "import scipy.optimize as so\n",
    "from scipy.integrate import quad\n",
    "from scipy.special import erfc\n",
    "\n",
    "# Custom\n",
    "import gala.coordinates as gc\n",
    "import gala.dynamics as gd\n",
    "import gala.integrate as gi\n",
    "import gala.potential as gp\n",
    "from gala.units import galactic\n",
    "\n",
    "import biff.scf as bscf"
   ]
  },
  {
   "cell_type": "code",
   "execution_count": null,
   "metadata": {
    "collapsed": true
   },
   "outputs": [],
   "source": [
    "def f(x, y, Rmax):\n",
    "    R_2 = x**2 + y**2\n",
    "    R0 = 0.5 # Dwek's number\n",
    "    if R_2 < Rmax**2:\n",
    "        return 1.\n",
    "    else:\n",
    "        return math.exp(-0.5 * R_2 / R0**2)\n",
    "    \n",
    "def f_arr(x, y, Rmax):\n",
    "    x = np.array(x)\n",
    "    y = np.array(y)\n",
    "    \n",
    "    R_2 = x**2 + y**2\n",
    "    R0 = 0.5 # Dwek's number\n",
    "    \n",
    "    ret = np.zeros_like(x)\n",
    "    mask = R_2 < Rmax**2\n",
    "    ret[mask] = 1.\n",
    "    ret[~mask] = np.exp(-0.5 * R_2[~mask] / R0**2)\n",
    "    return ret\n",
    "\n",
    "def dwek1995_G2_helper(x, y, z, x0, y0, z0, Rmax, lib, f):\n",
    "    r1 = ( ((x/x0)**2 + (y/y0)**2)**2 + (z/z0)**4 ) ** 0.25\n",
    "    return lib.exp(-r1**2/2.) * f(x, y, Rmax)\n",
    "    \n",
    "def dwek1995_G2_density(x, y, z, x0, y0, z0, Rmax): \n",
    "    return dwek1995_G2_helper(x, y, z, x0, y0, z0, Rmax, lib=math, f=f)\n",
    "\n",
    "def dwek1995_G2_density_arr(x, y, z, x0, y0, z0, Rmax): \n",
    "    return dwek1995_G2_helper(x, y, z, x0, y0, z0, Rmax, lib=np, f=f_arr)\n",
    "\n",
    "density = dwek1995_G2_density\n",
    "density_arr = dwek1995_G2_density_arr\n",
    "args = (1.49, 0.58, 0.4, 100.)"
   ]
  },
  {
   "cell_type": "code",
   "execution_count": null,
   "metadata": {
    "collapsed": true
   },
   "outputs": [],
   "source": [
    "def analytic_grad_on_axis(x, x0):\n",
    "    # Only works along x, y, or z\n",
    "    # G = rho0 = 1\n",
    "    return (2*np.pi)**1.5 * x0 * erfc(x/x0/np.sqrt(2))"
   ]
  },
  {
   "cell_type": "markdown",
   "metadata": {},
   "source": [
    "---\n",
    "\n",
    "## Plotting the analytic density and computed surface density"
   ]
  },
  {
   "cell_type": "code",
   "execution_count": null,
   "metadata": {
    "collapsed": true
   },
   "outputs": [],
   "source": [
    "def surf_dens_helper(z, q, density, axis=0):\n",
    "    return density(q, z)"
   ]
  },
  {
   "cell_type": "code",
   "execution_count": null,
   "metadata": {},
   "outputs": [],
   "source": [
    "xs = np.linspace(0.001, 10, 64)\n",
    "surf_dens_x = np.zeros_like(xs)\n",
    "surf_dens_y = np.zeros_like(xs)\n",
    "\n",
    "_density_x = lambda q, z: density(q, 0, z, *args)\n",
    "_density_y = lambda q, z: density(0, q, z, *args)\n",
    "\n",
    "for i,x in enumerate(xs):\n",
    "    surf_dens_x[i],_ = quad(surf_dens_helper, \n",
    "                            -10, 10,\n",
    "                            args=(x, _density_x))\n",
    "\n",
    "    surf_dens_y[i],_ = quad(surf_dens_helper, \n",
    "                            -10, 10,\n",
    "                            args=(x, _density_y))"
   ]
  },
  {
   "cell_type": "code",
   "execution_count": null,
   "metadata": {},
   "outputs": [],
   "source": [
    "plt.figure(figsize=(5,5))\n",
    "\n",
    "xyz = np.zeros((3, 1024))\n",
    "xyz[0] = np.logspace(-3, 1., xyz.shape[1])\n",
    "\n",
    "analytic_dens_x = np.array([density(x, 0., 0., *args) for x in xyz[0]])\n",
    "plt.semilogy(xyz[0], analytic_dens_x, marker='', linestyle='-')\n",
    "plt.xlim(xyz[0].min(), xyz[0].max())\n",
    "plt.ylim(1E-6, 1E2)\n",
    "\n",
    "plt.xlabel(r\"$r$ [kpc]\")\n",
    "plt.ylabel(r\"$\\rho(r)$\")"
   ]
  },
  {
   "cell_type": "markdown",
   "metadata": {},
   "source": [
    "Compare this to Fig. 3 from Portail+2017:\n",
    "\n",
    "<img src=\"Portail17_Fig3.png\" width=750 />"
   ]
  },
  {
   "cell_type": "code",
   "execution_count": null,
   "metadata": {
    "scrolled": false
   },
   "outputs": [],
   "source": [
    "plt.figure(figsize=(5,5))\n",
    "\n",
    "plt.semilogy(xs, surf_dens_x, marker='', linestyle='-', color='tab:red')\n",
    "plt.semilogy(xs, surf_dens_y, marker='', linestyle='-', color='tab:blue')\n",
    "\n",
    "plt.semilogy(-xs, surf_dens_x, marker='', linestyle='-', color='tab:red')\n",
    "plt.semilogy(-xs, surf_dens_y, marker='', linestyle='-', color='tab:blue')\n",
    "\n",
    "plt.xlim(-8, 8)\n",
    "plt.ylim(1E-3, 1E1)\n",
    "\n",
    "plt.xlabel(r\"$R$ [kpc]\")\n",
    "plt.ylabel(r\"$\\Sigma(R)$ [${\\rm M}_\\odot \\, {\\rm pc}^{-2}$]\")"
   ]
  },
  {
   "cell_type": "code",
   "execution_count": null,
   "metadata": {
    "collapsed": true
   },
   "outputs": [],
   "source": [
    "def density_on_grid(density, grid_lim=(-10,10), ngrid=128, args=()):\n",
    "    grid = np.linspace(grid_lim[0], grid_lim[1], ngrid)\n",
    "    xyz = np.vstack(map(np.ravel, np.meshgrid(grid,grid,grid)))\n",
    "\n",
    "    val = np.zeros((ngrid*ngrid*ngrid,))\n",
    "    val = density(xyz[0], xyz[1], xyz[2], *args)\n",
    "    val[np.isnan(val)] = val[np.isfinite(val)].max()\n",
    "    \n",
    "    gridx = xyz[0].reshape(ngrid,ngrid,ngrid)[:,:,0]\n",
    "    gridy = xyz[1].reshape(ngrid,ngrid,ngrid)[:,:,0]\n",
    "    \n",
    "    return gridx, gridy, val"
   ]
  },
  {
   "cell_type": "code",
   "execution_count": null,
   "metadata": {},
   "outputs": [],
   "source": [
    "ngrid = 128\n",
    "xx,yy,dens3d = density_on_grid(density_arr, ngrid=ngrid, args=args)"
   ]
  },
  {
   "cell_type": "code",
   "execution_count": null,
   "metadata": {},
   "outputs": [],
   "source": [
    "fig, axes = plt.subplots(1, 2, figsize=(10,5))\n",
    "\n",
    "dens2d = dens3d.reshape(ngrid,ngrid,ngrid).sum(axis=2)\n",
    "axes[0].contour(xx, yy, dens2d,\n",
    "                levels=np.linspace(0.01, 10, 16), \n",
    "                colors='k', alpha=0.75)\n",
    "\n",
    "dens2d = dens3d.reshape(ngrid,ngrid,ngrid).sum(axis=0)\n",
    "axes[1].contour(xx, yy, dens2d.T,\n",
    "                levels=np.linspace(0.01, 10, 16),\n",
    "                colors='k', alpha=0.75)\n",
    "\n",
    "fig.suptitle('True density', y=0.96, fontsize=22)"
   ]
  },
  {
   "cell_type": "markdown",
   "metadata": {},
   "source": [
    "---\n"
   ]
  },
  {
   "cell_type": "markdown",
   "metadata": {},
   "source": [
    "# Basis Function Expansion\n",
    "\n",
    "Now we compute SCF expansion coefficients for this density distribution. Ultimately, we'll construct models that are truncated at the corotation radius, but to determine the corotation we'll use the un-truncated model.\n",
    "\n",
    "To start with, we'll compute up to $n=10$ and $l=10$, but we might find below that we can truncate the expansion earlier."
   ]
  },
  {
   "cell_type": "code",
   "execution_count": null,
   "metadata": {},
   "outputs": [],
   "source": [
    "nmax = 10\n",
    "lmax = 10\n",
    "coeff = bscf.compute_coeffs(density,  nmax=nmax, lmax=lmax, \n",
    "                            M=1., r_s=1., skip_odd=True, args=args)\n",
    "(S,Serr), (T,Terr) = coeff"
   ]
  },
  {
   "cell_type": "code",
   "execution_count": null,
   "metadata": {
    "collapsed": true
   },
   "outputs": [],
   "source": [
    "# np.save('n{0}_l{1}_dwek_G2.npy'.format(nmax, lmax), S)"
   ]
  },
  {
   "cell_type": "markdown",
   "metadata": {},
   "source": [
    "Now we'll generate a fuckton of plots to compare the expansion to the true density at different truncation points (up to different intermediate nmax, lmax):"
   ]
  },
  {
   "cell_type": "code",
   "execution_count": null,
   "metadata": {
    "scrolled": false
   },
   "outputs": [],
   "source": [
    "xyz = np.zeros((3, 1024))\n",
    "xyz[0] = np.logspace(-3, 1., xyz.shape[1])\n",
    "\n",
    "xyz2 = np.zeros((3, 1024))\n",
    "xyz2[1] = np.logspace(-3, 1., xyz2.shape[1])\n",
    "\n",
    "# ---\n",
    "\n",
    "fig,axes = plt.subplots(10, 5, figsize=(15,30), sharex=True, sharey=True)\n",
    "\n",
    "for i,nmax in enumerate(range(1, 10+1, 1)):\n",
    "    for j,lmax in enumerate(range(2, 10+1, 2)):\n",
    "        _S = S[:nmax+1, :lmax+1, :lmax+1]\n",
    "        pot = bscf.SCFPotential(m=1, r_s=1., Snlm=_S, Tnlm=np.zeros_like(_S))\n",
    "\n",
    "        axes[i,j].semilogy(xyz[0], analytic_dens_x, marker='', linestyle='-')\n",
    "        axes[i,j].semilogy(xyz[0], pot.density(xyz), marker='', linestyle='-', color='r', alpha=0.4, lw=5)\n",
    "        \n",
    "        if j == 0:\n",
    "            axes[i,j].set_ylabel(r\"$\\rho(r)$\")\n",
    "            \n",
    "        if i == 4:\n",
    "            axes[i,j].set_xlabel(r\"$r$ [kpc]\")\n",
    "            \n",
    "        axes[i,j].text(1, 5, r'$n\\leq{0}$, $l,m\\leq{1}$'.format(nmax, lmax), \n",
    "                       fontsize=18)\n",
    "        \n",
    "axes[0,0].set_xlim(xyz[0].min(), xyz[0].max())\n",
    "axes[0,0].set_ylim(1E-6, 1E2)\n",
    "\n",
    "fig.tight_layout()\n",
    "\n",
    "# ---\n",
    "\n",
    "fig,axes = plt.subplots(10, 5, figsize=(15,30), sharex=True, sharey=True)\n",
    "\n",
    "for i,nmax in enumerate(range(1, 10+1, 1)):\n",
    "    for j,lmax in enumerate(range(2, 10+1, 2)):\n",
    "        _S = S[:nmax+1, :lmax+1, :lmax+1]\n",
    "        pot = bscf.SCFPotential(m=1, r_s=1., Snlm=_S, Tnlm=np.zeros_like(_S))\n",
    "\n",
    "        axes[i,j].semilogy(xyz2[1], analytic_dens_y, marker='', linestyle='-')\n",
    "        axes[i,j].semilogy(xyz2[1], pot.density(xyz2), marker='', linestyle='-', color='r', alpha=0.4, lw=5)\n",
    "        \n",
    "        if j == 0:\n",
    "            axes[i,j].set_ylabel(r\"$\\rho(r)$\")\n",
    "            \n",
    "        if i == 4:\n",
    "            axes[i,j].set_xlabel(r\"$r$ [kpc]\")\n",
    "            \n",
    "        axes[i,j].text(1, 5, r'$n\\leq{0}$, $l,m\\leq{1}$'.format(nmax, lmax), \n",
    "                       fontsize=18)\n",
    "        \n",
    "axes[0,0].set_xlim(xyz[0].min(), xyz[0].max())\n",
    "axes[0,0].set_ylim(1E-6, 1E2)\n",
    "\n",
    "fig.tight_layout()"
   ]
  },
  {
   "cell_type": "markdown",
   "metadata": {},
   "source": [
    "From this, it looks like $n_{\\rm max} = 6$, $l_{\\rm max} = 6$ would work, but let's see if it's computationally feasible compared to (3,6) as Wang & Zhao did:"
   ]
  },
  {
   "cell_type": "code",
   "execution_count": null,
   "metadata": {},
   "outputs": [],
   "source": [
    "p1 = bscf.SCFPotential(m=1., r_s=1., \n",
    "                       Snlm=S[:6+1,:6+1,:6+1], Tnlm=np.zeros_like(S[:6+1,:6+1,:6+1]))\n",
    "\n",
    "p2 = bscf.SCFPotential(m=1., r_s=1., \n",
    "                       Snlm=S[:3+1,:6+1,:6+1], Tnlm=np.zeros_like(S[:3+1,:6+1,:6+1]))\n",
    "\n",
    "arr = np.array([[8., 0, 0]])\n",
    "t = np.array([0.])\n",
    "%timeit p1._gradient(arr, t)\n",
    "%timeit p2._gradient(arr, t)"
   ]
  },
  {
   "cell_type": "markdown",
   "metadata": {},
   "source": [
    "So it's not even a factor of 2 worse - I think we just go with the higher-order expansion then.\n",
    "\n",
    "Let's now compare the surface density to the analytic:"
   ]
  },
  {
   "cell_type": "code",
   "execution_count": null,
   "metadata": {
    "collapsed": true
   },
   "outputs": [],
   "source": [
    "# pot = p1\n",
    "pot = bscf.SCFPotential(m=1., r_s=1., Snlm=S, Tnlm=np.zeros_like(S))"
   ]
  },
  {
   "cell_type": "code",
   "execution_count": null,
   "metadata": {
    "collapsed": true
   },
   "outputs": [],
   "source": [
    "def surf_dens_helper2(z, R, pot, axis=0):\n",
    "    q = np.array([0, 0, z])\n",
    "    q[axis] = R\n",
    "    return pot.density(q).value[0]"
   ]
  },
  {
   "cell_type": "code",
   "execution_count": null,
   "metadata": {},
   "outputs": [],
   "source": [
    "surf_dens_x_scf = np.zeros_like(xs)\n",
    "surf_dens_y_scf = np.zeros_like(xs)\n",
    "\n",
    "for i,x in enumerate(xs):\n",
    "    _surf_dens,_ = quad(surf_dens_helper2, \n",
    "                        -10, 10, \n",
    "                        args=(x, pot))\n",
    "    surf_dens_x_scf[i] = _surf_dens\n",
    "    \n",
    "    _surf_dens,_ = quad(surf_dens_helper2, \n",
    "                        -10, 10, \n",
    "                        args=(x, pot, 1))\n",
    "    surf_dens_y_scf[i] = _surf_dens"
   ]
  },
  {
   "cell_type": "code",
   "execution_count": null,
   "metadata": {},
   "outputs": [],
   "source": [
    "fig, axes = plt.subplots(1, 2, figsize=(10,5), sharex=True, sharey=True)\n",
    "\n",
    "axes[0].semilogy(xs, surf_dens_x, marker='', linestyle='-')\n",
    "axes[0].semilogy(xs, surf_dens_x_scf, marker='', linestyle='-', color='r', alpha=0.4, lw=5)\n",
    "\n",
    "axes[1].semilogy(xs, surf_dens_y, marker='', linestyle='-')\n",
    "axes[1].semilogy(xs, surf_dens_y_scf, marker='', linestyle='-', color='r', alpha=0.4, lw=5)\n",
    "\n",
    "axes[0].set_xlim(xs.min(), 7.5)\n",
    "axes[0].set_ylim(1E-4, 2E0)\n",
    "\n",
    "axes[0].set_xlabel(r\"$R$ [kpc]\")\n",
    "axes[1].set_xlabel(r\"$R$ [kpc]\")\n",
    "axes[0].set_ylabel(r\"$\\Sigma(R)$ [${\\rm M}_\\odot \\, {\\rm pc}^{-2}$]\")"
   ]
  },
  {
   "cell_type": "markdown",
   "metadata": {},
   "source": [
    "Potential contours:"
   ]
  },
  {
   "cell_type": "code",
   "execution_count": null,
   "metadata": {},
   "outputs": [],
   "source": [
    "grid = np.linspace(-10, 10, 256)\n",
    "\n",
    "fig,axes = plt.subplots(1, 2, figsize=(12,6))\n",
    "_ = pot.plot_contours(grid=(grid, grid, 0), ax=axes[0])\n",
    "_ = pot.plot_contours(grid=(grid, 0, grid), ax=axes[1])\n",
    "axes[0].axvline(5)\n",
    "axes[0].axvline(-5)\n",
    "axes[0].axhline(5)\n",
    "axes[0].axhline(-5)"
   ]
  },
  {
   "cell_type": "code",
   "execution_count": null,
   "metadata": {
    "scrolled": false
   },
   "outputs": [],
   "source": [
    "fig,axes = plt.subplots(1, 2, figsize=(12,6))\n",
    "\n",
    "axes[0].contourf(xx, yy, dens3d.sum(axis=2))\n",
    "axes[1].contourf(xx, yy, dens3d.sum(axis=0).T)"
   ]
  },
  {
   "cell_type": "code",
   "execution_count": null,
   "metadata": {},
   "outputs": [],
   "source": [
    "(np.abs(pot.parameters['Snlm'])>1E-10).sum()"
   ]
  },
  {
   "cell_type": "code",
   "execution_count": null,
   "metadata": {
    "collapsed": true
   },
   "outputs": [],
   "source": [
    "import h5py"
   ]
  },
  {
   "cell_type": "code",
   "execution_count": null,
   "metadata": {
    "collapsed": true
   },
   "outputs": [],
   "source": [
    "key = str(hash((6,6,0.)))"
   ]
  },
  {
   "cell_type": "code",
   "execution_count": null,
   "metadata": {
    "collapsed": true
   },
   "outputs": [],
   "source": [
    "with h5py.File('../barchaos/potential/data/coeffs.hdf5', 'a') as f:\n",
    "    d = f.create_dataset(name=key, data=S[:6+1,:6+1,:6+1])\n",
    "    d.attrs['Rmax'] = 100."
   ]
  },
  {
   "cell_type": "code",
   "execution_count": null,
   "metadata": {
    "collapsed": true
   },
   "outputs": [],
   "source": []
  }
 ],
 "metadata": {
  "kernelspec": {
   "display_name": "Python [conda env:barchaos]",
   "language": "python",
   "name": "conda-env-barchaos-py"
  },
  "language_info": {
   "codemirror_mode": {
    "name": "ipython",
    "version": 3
   },
   "file_extension": ".py",
   "mimetype": "text/x-python",
   "name": "python",
   "nbconvert_exporter": "python",
   "pygments_lexer": "ipython3",
   "version": "3.6.2"
  }
 },
 "nbformat": 4,
 "nbformat_minor": 2
}