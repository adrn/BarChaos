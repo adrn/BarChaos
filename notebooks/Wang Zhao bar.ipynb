{
 "cells": [
  {
   "cell_type": "code",
   "execution_count": null,
   "metadata": {},
   "outputs": [],
   "source": [
    "import math\n",
    "\n",
    "# Third-party\n",
    "import astropy.units as u\n",
    "from astropy.constants import G\n",
    "import matplotlib as mpl\n",
    "import matplotlib.pyplot as plt\n",
    "plt.style.use('apw-notebook')\n",
    "import numpy as np\n",
    "%matplotlib inline\n",
    "import scipy.optimize as so\n",
    "from scipy.integrate import quad\n",
    "from scipy.special import kn\n",
    "\n",
    "# Custom\n",
    "import gala.coordinates as gc\n",
    "import gala.dynamics as gd\n",
    "import gala.integrate as gi\n",
    "import gala.potential as gp\n",
    "from gala.units import galactic\n",
    "\n",
    "import biff.scf as bscf"
   ]
  },
  {
   "cell_type": "code",
   "execution_count": null,
   "metadata": {
    "collapsed": true
   },
   "outputs": [],
   "source": [
    "def wz2012_helper(x, y, z, x0, y0, z0, q):\n",
    "    r1 = (((x/x0)**2 + (y/y0)**2)**2 + (z/z0)**4)**0.25\n",
    "    r2_2 = (q**2*(x**2+y**2) + z**2) / z0**2\n",
    "    return r1, r2_2\n",
    "    \n",
    "def wz2012_density(x, y, z, x0, y0, z0, q): \n",
    "    r1, r2_2 = wz2012_helper(x, y, z, x0, y0, z0, q)\n",
    "    r2 = math.sqrt(r2_2)\n",
    "    return math.exp(-r1**2/2.) + r2**(-1.85)*math.exp(-r2)\n",
    "\n",
    "def wz2012_density_arr(x, y, z, x0, y0, z0, q):\n",
    "    r1, r2_2 = wz2012_helper(x, y, z, x0, y0, z0, q)\n",
    "    r2 = np.sqrt(r2_2)\n",
    "    return np.exp(-r1**2/2.) + r2**(-1.85)*np.exp(-r2)\n",
    "    \n",
    "\n",
    "# ---\n",
    "def cao2013_density(x, y, z, x0, y0, z0):\n",
    "    rr = (((x/x0)**2 + (y/y0)**2)**2 + (z/z0)**4)**0.25\n",
    "    return kn(0, rr)\n",
    "\n",
    "density = wz2012_density\n",
    "density_arr = wz2012_density_arr\n",
    "args = (1.49, 0.58, 0.4, 0.6)\n",
    "\n",
    "# density = cao2013_density\n",
    "# args = (0.67, 0.29, 0.27)"
   ]
  },
  {
   "cell_type": "code",
   "execution_count": null,
   "metadata": {
    "collapsed": true
   },
   "outputs": [],
   "source": [
    "def surf_dens_helper(z, q, density, axis=0):\n",
    "    return density(q, z)"
   ]
  },
  {
   "cell_type": "code",
   "execution_count": null,
   "metadata": {},
   "outputs": [],
   "source": [
    "xs = np.linspace(0.01, 10, 64)\n",
    "surf_dens_x = np.zeros_like(xs)\n",
    "surf_dens_y = np.zeros_like(xs)\n",
    "\n",
    "_density_x = lambda q, z: density(q, 0, z, *args)\n",
    "_density_y = lambda q, z: density(0, q, z, *args)\n",
    "\n",
    "for i,x in enumerate(xs):\n",
    "    surf_dens_x[i],_ = quad(surf_dens_helper, \n",
    "                            -10, 10,\n",
    "                            args=(x, _density_x))\n",
    "\n",
    "    surf_dens_y[i],_ = quad(surf_dens_helper, \n",
    "                            -10, 10,\n",
    "                            args=(x, _density_y))"
   ]
  },
  {
   "cell_type": "code",
   "execution_count": null,
   "metadata": {},
   "outputs": [],
   "source": [
    "plt.figure(figsize=(5,5))\n",
    "\n",
    "xyz = np.zeros((3, 1024))\n",
    "xyz[0] = np.logspace(-3, 1., xyz.shape[1])\n",
    "\n",
    "analytic_dens_x = np.array([density(x, 0., 0., *args) for x in xyz[0]])\n",
    "plt.semilogy(xyz[0], analytic_dens_x, marker='', linestyle='-')\n",
    "plt.xlim(xyz[0].min(), xyz[0].max())\n",
    "# plt.ylim(1E-6, 1E2)\n",
    "\n",
    "plt.xlabel(r\"$r$ [kpc]\")\n",
    "plt.ylabel(r\"$\\rho(r)$\")"
   ]
  },
  {
   "cell_type": "code",
   "execution_count": null,
   "metadata": {},
   "outputs": [],
   "source": [
    "plt.figure(figsize=(5,5))\n",
    "\n",
    "plt.semilogy(xs, surf_dens_x, marker='', linestyle='-')\n",
    "plt.semilogy(xs, surf_dens_y, marker='', linestyle='-')\n",
    "\n",
    "plt.xlim(xs.min(), xs.max())\n",
    "plt.ylim(1E-6, 1E2)\n",
    "\n",
    "plt.xlabel(r\"$R$ [kpc]\")\n",
    "plt.ylabel(r\"$\\Sigma(R)$ [${\\rm M}_\\odot \\, {\\rm pc}^{-2}$]\")"
   ]
  },
  {
   "cell_type": "code",
   "execution_count": null,
   "metadata": {
    "collapsed": true
   },
   "outputs": [],
   "source": [
    "def density_on_grid(density, grid_lim=(-10,10), ngrid=128, args=()):\n",
    "    grid = np.linspace(grid_lim[0], grid_lim[1], ngrid)\n",
    "    xyz = np.vstack(map(np.ravel, np.meshgrid(grid,grid,grid)))\n",
    "\n",
    "    val = np.zeros((ngrid*ngrid*ngrid,))\n",
    "    val = density_arr(xyz[0], xyz[1], xyz[2], *args)\n",
    "    val[np.isnan(val)] = val[np.isfinite(val)].max()\n",
    "    \n",
    "    gridx = xyz[0].reshape(ngrid,ngrid,ngrid)[:,:,0]\n",
    "    gridy = xyz[1].reshape(ngrid,ngrid,ngrid)[:,:,0]\n",
    "    \n",
    "    return gridx, gridy, val"
   ]
  },
  {
   "cell_type": "code",
   "execution_count": null,
   "metadata": {},
   "outputs": [],
   "source": [
    "ngrid = 128\n",
    "xx,yy,dens3d = density_on_grid(density, ngrid=ngrid, args=args)"
   ]
  },
  {
   "cell_type": "code",
   "execution_count": null,
   "metadata": {},
   "outputs": [],
   "source": [
    "fig, axes = plt.subplots(1, 2, figsize=(10,5))\n",
    "\n",
    "dens2d = dens3d.reshape(ngrid,ngrid,ngrid).sum(axis=2)\n",
    "axes[0].contour(xx, yy, dens2d,\n",
    "                levels=np.linspace(0.01, 10, 16))\n",
    "\n",
    "dens2d = dens3d.reshape(ngrid,ngrid,ngrid).sum(axis=0)\n",
    "axes[1].contour(xx, yy, dens2d.T,\n",
    "                levels=np.linspace(0.01, 10, 16))"
   ]
  },
  {
   "cell_type": "markdown",
   "metadata": {},
   "source": [
    "---\n"
   ]
  },
  {
   "cell_type": "code",
   "execution_count": null,
   "metadata": {},
   "outputs": [],
   "source": [
    "coeff = bscf.compute_coeffs(density, \n",
    "                            nmax=8, lmax=8, M=1., r_s=1., skip_odd=True,\n",
    "                            args=args)\n",
    "(S,Serr),(T,Terr) = coeff"
   ]
  },
  {
   "cell_type": "code",
   "execution_count": null,
   "metadata": {},
   "outputs": [],
   "source": [
    "xyz = np.zeros((3, 1024))\n",
    "xyz[0] = np.logspace(-3, 1., xyz.shape[1])\n",
    "\n",
    "analytic_dens_x = np.array([density(x, 0., 0., *args) for x in xyz[0]])\n",
    "biff_dens_x = bscf.SCFPotential(m=1., r_s=1., Snlm=S, Tnlm=np.zeros_like(S)).density(xyz)\n",
    "\n",
    "xyz2 = np.zeros((3, 1024))\n",
    "xyz2[1] = np.logspace(-3, 1., xyz2.shape[1])\n",
    "analytic_dens_y = np.array([density(0., x, 0., *args) for x in xyz2[1]])\n",
    "biff_dens_y = bscf.SCFPotential(m=1., r_s=1., Snlm=S, Tnlm=np.zeros_like(S)).density(xyz2)\n",
    "\n",
    "fig, axes = plt.subplots(1, 2, figsize=(10,5), sharex=True, sharey=True)\n",
    "\n",
    "axes[0].semilogy(xyz[0], analytic_dens_x, marker='None')\n",
    "axes[0].semilogy(xyz[0], biff_dens_x, marker='None')\n",
    "\n",
    "axes[1].semilogy(xyz2[1], analytic_dens_y, marker='None')\n",
    "axes[1].semilogy(xyz2[1], biff_dens_y, marker='None')"
   ]
  },
  {
   "cell_type": "code",
   "execution_count": null,
   "metadata": {
    "collapsed": true
   },
   "outputs": [],
   "source": [
    "# np.save('n8_l8_wz2012.npy', S)"
   ]
  },
  {
   "cell_type": "code",
   "execution_count": null,
   "metadata": {
    "collapsed": true
   },
   "outputs": [],
   "source": [
    "def surf_dens_helper(z, R, pot, axis=0):\n",
    "    q = np.array([0, 0, z])\n",
    "    q[axis] = R\n",
    "    return pot.density(q).value[0]"
   ]
  },
  {
   "cell_type": "code",
   "execution_count": null,
   "metadata": {
    "collapsed": true
   },
   "outputs": [],
   "source": [
    "pot = bscf.SCFPotential(m=1., r_s=1., Snlm=S, Tnlm=np.zeros_like(S))"
   ]
  },
  {
   "cell_type": "code",
   "execution_count": null,
   "metadata": {
    "collapsed": true
   },
   "outputs": [],
   "source": [
    "xs = np.linspace(0.01, 10, 32)\n",
    "surf_dens_x = np.zeros_like(xs)\n",
    "\n",
    "for i,x in enumerate(xs):\n",
    "    _surf_dens,_ = quad(surf_dens_helper, \n",
    "                        -10, 10, \n",
    "                        args=(x, pot))\n",
    "    surf_dens_x[i] = (_surf_dens*u.Msun/u.kpc**2).to(u.Msun/u.pc**2).value"
   ]
  },
  {
   "cell_type": "code",
   "execution_count": null,
   "metadata": {},
   "outputs": [],
   "source": [
    "plt.figure(figsize=(5,5))\n",
    "\n",
    "plt.loglog(xs, surf_dens_x, marker='', linestyle='-')\n",
    "\n",
    "plt.xlim(xs.min(), xs.max())\n",
    "# plt.ylim(1E-6, 1E8)\n",
    "\n",
    "plt.xlabel(r\"$R$ [kpc]\")\n",
    "plt.ylabel(r\"$\\Sigma(R)$ [${\\rm M}_\\odot \\, {\\rm pc}^{-2}$]\")"
   ]
  },
  {
   "cell_type": "code",
   "execution_count": null,
   "metadata": {},
   "outputs": [],
   "source": [
    "grid = np.linspace(-10, 10, 256)\n",
    "\n",
    "fig,axes = plt.subplots(1, 2, figsize=(12,6))\n",
    "_ = pot.plot_contours(grid=(grid, grid, 0), ax=axes[0])\n",
    "_ = pot.plot_contours(grid=(grid, 0, grid), ax=axes[1])\n",
    "axes[0].axvline(5)\n",
    "axes[0].axvline(-5)\n",
    "axes[0].axhline(5)\n",
    "axes[0].axhline(-5)"
   ]
  },
  {
   "cell_type": "code",
   "execution_count": null,
   "metadata": {},
   "outputs": [],
   "source": [
    "ngrid = 128\n",
    "\n",
    "_density = lambda x, y, z: pot.density(np.vstack((x,y,z)))\n",
    "xx,yy,dens3d = density_on_grid(_density, ngrid=ngrid, args=args)\n",
    "\n",
    "fig, axes = plt.subplots(1, 2, figsize=(10,5))\n",
    "\n",
    "dens2d = dens3d.reshape(ngrid,ngrid,ngrid).sum(axis=2)\n",
    "axes[0].contour(xx, yy, dens2d,\n",
    "                levels=np.linspace(0.01, 10, 16))\n",
    "\n",
    "dens2d = dens3d.reshape(ngrid,ngrid,ngrid).sum(axis=0)\n",
    "axes[1].contour(xx, yy, dens2d.T,\n",
    "                levels=np.linspace(0.01, 10, 16))"
   ]
  },
  {
   "cell_type": "code",
   "execution_count": null,
   "metadata": {},
   "outputs": [],
   "source": [
    "S.size"
   ]
  },
  {
   "cell_type": "code",
   "execution_count": null,
   "metadata": {
    "collapsed": true
   },
   "outputs": [],
   "source": []
  }
 ],
 "metadata": {
  "kernelspec": {
   "display_name": "Python [conda env:barchaos]",
   "language": "python",
   "name": "conda-env-barchaos-py"
  },
  "language_info": {
   "codemirror_mode": {
    "name": "ipython",
    "version": 3
   },
   "file_extension": ".py",
   "mimetype": "text/x-python",
   "name": "python",
   "nbconvert_exporter": "python",
   "pygments_lexer": "ipython3",
   "version": "3.6.2"
  }
 },
 "nbformat": 4,
 "nbformat_minor": 2
}