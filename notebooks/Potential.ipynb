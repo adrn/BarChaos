{
 "cells": [
  {
   "cell_type": "code",
   "execution_count": null,
   "metadata": {
    "collapsed": true
   },
   "outputs": [],
   "source": [
    "import astropy.units as u\n",
    "from astropy.constants import G\n",
    "import matplotlib.pyplot as plt\n",
    "import numpy as np\n",
    "plt.style.use('apw-notebook')\n",
    "%matplotlib inline\n",
    "\n",
    "import gala.dynamics as gd\n",
    "import gala.potential as gp\n",
    "from gala.units import galactic"
   ]
  },
  {
   "cell_type": "code",
   "execution_count": null,
   "metadata": {
    "collapsed": true
   },
   "outputs": [],
   "source": [
    "tbl = np.genfromtxt('../data/MW-Menc.txt', names=True, delimiter=',')"
   ]
  },
  {
   "cell_type": "code",
   "execution_count": null,
   "metadata": {},
   "outputs": [],
   "source": [
    "pot = gp.CCompositePotential()\n",
    "\n",
    "pot['bar'] = gp.LongMuraliBarPotential(m=1E10*u.Msun, \n",
    "                                       a=4*u.kpc, b=0.1*u.kpc, c=0.4*u.kpc, \n",
    "                                       units=galactic)\n",
    "pot['sph'] = gp.HernquistPotential(m=5E9, c=0.5, \n",
    "                                   units=galactic)\n",
    "pot_bar_bulge = pot.copy()\n",
    "\n",
    "pot['disk'] = gp.MiyamotoNagaiPotential(m=2E10*u.Msun, a=3*u.kpc, b=280*u.pc, \n",
    "                                        units=galactic)\n",
    "pot_no_halo = pot.copy()\n",
    "\n",
    "pot['halo'] = gp.NFWPotential(m=5E11, r_s=18*u.kpc, \n",
    "                              units=galactic)"
   ]
  },
  {
   "cell_type": "code",
   "execution_count": null,
   "metadata": {
    "scrolled": false
   },
   "outputs": [],
   "source": [
    "grid = np.linspace(-15, 15, 256)\n",
    "\n",
    "fig,axes = plt.subplots(1, 2, figsize=(12,6))\n",
    "_ = pot.plot_density_contours(grid=(grid, grid, 0), ax=axes[0])\n",
    "_ = pot.plot_density_contours(grid=(grid, 0, grid), ax=axes[1])"
   ]
  },
  {
   "cell_type": "code",
   "execution_count": null,
   "metadata": {},
   "outputs": [],
   "source": [
    "pot.mass_enclosed([20, 0,0.])"
   ]
  },
  {
   "cell_type": "code",
   "execution_count": null,
   "metadata": {
    "collapsed": true
   },
   "outputs": [],
   "source": [
    "xyz = np.zeros((3, 256))\n",
    "xyz[0] = np.logspace(-1, 2.5, xyz.shape[1])"
   ]
  },
  {
   "cell_type": "code",
   "execution_count": null,
   "metadata": {},
   "outputs": [],
   "source": [
    "fig, axes = plt.subplots(1, 2, figsize=(12,6))\n",
    "\n",
    "axes[0].loglog(xyz[0], pot.mass_enclosed(xyz).value, marker='', lw=2.)\n",
    "axes[0].set_xlim(0.1, 250.)\n",
    "axes[0].tick_params(which='both', right=True, top=True)\n",
    "axes[0].errorbar(tbl['r'], tbl['Menc'], yerr=(tbl['Menc_neg_err'], tbl['Menc_pos_err']),\n",
    "                 marker='o', ls='none')\n",
    "\n",
    "vcirc = np.sqrt(G*pot.mass_enclosed(xyz)/(xyz[0]*u.kpc)).to(u.km/u.s)\n",
    "axes[1].plot(xyz[0], vcirc, marker='', lw=2.)\n",
    "axes[1].axhline(220.)\n",
    "axes[1].axvline(8.)\n",
    "axes[1].fill_between([0,20], 200., 240, alpha=0.4, color='#888888')\n",
    "axes[1].set_xlim(0, 20)\n",
    "axes[1].set_ylim(0, 280)\n",
    "axes[1].set_xlabel(\"$r$ [kpc]\")\n",
    "axes[1].set_ylabel(r\"$v_c$ [${\\rm km}\\,{\\rm s}^{-1}$]\")\n",
    "\n",
    "fig.tight_layout()"
   ]
  },
  {
   "cell_type": "markdown",
   "metadata": {},
   "source": [
    "### Compare surface density to measurements"
   ]
  },
  {
   "cell_type": "code",
   "execution_count": null,
   "metadata": {
    "collapsed": true
   },
   "outputs": [],
   "source": [
    "from scipy.integrate import quad"
   ]
  },
  {
   "cell_type": "code",
   "execution_count": null,
   "metadata": {
    "collapsed": true
   },
   "outputs": [],
   "source": [
    "def func(z, R, pot, axis=0):\n",
    "    q = np.array([0, 0, z])\n",
    "    q[axis] = R\n",
    "    return pot.density(q).value[0]"
   ]
  },
  {
   "cell_type": "markdown",
   "metadata": {},
   "source": [
    "Total surface mass density in stars from [Bovy 2012](http://iopscience.iop.org/article/10.1088/0004-637X/751/2/131/pdf)"
   ]
  },
  {
   "cell_type": "code",
   "execution_count": null,
   "metadata": {
    "collapsed": true
   },
   "outputs": [],
   "source": [
    "bovy_R = 8.*u.kpc\n",
    "bovy_sdens = 30. * u.Msun/u.pc**2 # +/- 1"
   ]
  },
  {
   "cell_type": "code",
   "execution_count": null,
   "metadata": {},
   "outputs": [],
   "source": [
    "Rs = np.linspace(4, 10, 16)\n",
    "surf_dens = np.zeros_like(Rs)\n",
    "\n",
    "for i,R in enumerate(Rs):\n",
    "    _surf_dens,_ = quad(func, -1.1, 1.1, args=(R, pot_no_halo))\n",
    "    surf_dens[i] = (_surf_dens*u.Msun/u.kpc**2).to(u.Msun/u.pc**2).value"
   ]
  },
  {
   "cell_type": "code",
   "execution_count": null,
   "metadata": {},
   "outputs": [],
   "source": [
    "plt.figure(figsize=(5,5))\n",
    "plt.semilogy(Rs, surf_dens, marker='', linestyle='-')\n",
    "plt.scatter(bovy_R, bovy_sdens)\n",
    "plt.xlim(4, 10)\n",
    "plt.ylim(10, 1000)\n",
    "plt.xlabel(r\"$R$ [kpc]\")\n",
    "plt.ylabel(r\"$\\Sigma(R)$ [${\\rm M}_\\odot \\, {\\rm pc}^{-2}$]\")"
   ]
  },
  {
   "cell_type": "markdown",
   "metadata": {},
   "source": [
    "Surface mass densities read off of Fig. 3 in [Portail 2016](https://arxiv.org/pdf/1608.07954v2.pdf)"
   ]
  },
  {
   "cell_type": "code",
   "execution_count": null,
   "metadata": {},
   "outputs": [],
   "source": [
    "R = np.linspace(0, 10, 128)\n",
    "Rc = 2\n",
    "plt.loglog(R, (R**-1)*np.exp(-R/Rc))"
   ]
  },
  {
   "cell_type": "code",
   "execution_count": null,
   "metadata": {},
   "outputs": [],
   "source": [
    "pot = gp.CCompositePotential()\n",
    "\n",
    "pot['bar'] = gp.LongMuraliBarPotential(m=1E10*u.Msun, \n",
    "                                       a=4*u.kpc, b=0.5*u.kpc, c=0.5*u.kpc, \n",
    "                                       units=galactic)\n",
    "pot['inner_disk'] = gp.MiyamotoNagaiPotential(m=5E9*u.Msun, \n",
    "                                              a=0.5*u.kpc, b=280*u.pc, \n",
    "                                              units=galactic)\n",
    "\n",
    "pot['sph'] = gp.JaffePotential(m=1E9, c=4, \n",
    "                               units=galactic)\n",
    "\n",
    "pot_bar_bulge = pot.copy()\n",
    "\n",
    "pot['disk'] = gp.MiyamotoNagaiPotential(m=2E10*u.Msun, a=3*u.kpc, b=280*u.pc, \n",
    "                                        units=galactic)\n",
    "pot_no_halo = pot.copy()\n",
    "\n",
    "pot['halo'] = gp.NFWPotential(m=5E11, r_s=18*u.kpc, \n",
    "                              units=galactic)\n",
    "\n",
    "grid = np.linspace(-8, 8, 256)\n",
    "\n",
    "l_min = np.log10(pot.density([0.1, 0, 0]).value[0])\n",
    "l_max = np.log10(pot.density([20., 0, 0]).value[0])\n",
    "\n",
    "fig,axes = plt.subplots(1, 2, figsize=(12,6))\n",
    "_ = pot.plot_density_contours(grid=(grid, grid, 0), ax=axes[0], \n",
    "                              levels=sorted(np.logspace(l_min, l_max, 16)),\n",
    "                              cmap='viridis')\n",
    "_ = pot.plot_density_contours(grid=(grid, 0, grid), ax=axes[1],\n",
    "                              levels=sorted(np.logspace(l_min, l_max, 16)),\n",
    "                              cmap='viridis')"
   ]
  },
  {
   "cell_type": "code",
   "execution_count": null,
   "metadata": {
    "collapsed": true
   },
   "outputs": [],
   "source": [
    "xy_Rs = np.linspace(1E-2, 8, 16)\n",
    "surf_dens_x = np.zeros_like(Rs)\n",
    "surf_dens_y = np.zeros_like(Rs)\n",
    "\n",
    "for i,R in enumerate(xy_Rs):\n",
    "    _surf_dens,_ = quad(func, -1.1, 1.1, args=(R, pot_bar_bulge, 0))\n",
    "    surf_dens_x[i] = (_surf_dens*u.Msun/u.kpc**2).to(u.Msun/u.pc**2).value\n",
    "    \n",
    "    _surf_dens,_ = quad(func, -1.1, 1.1, args=(R, pot_bar_bulge, 1))\n",
    "    surf_dens_y[i] = (_surf_dens*u.Msun/u.kpc**2).to(u.Msun/u.pc**2).value"
   ]
  },
  {
   "cell_type": "markdown",
   "metadata": {},
   "source": [
    "These points were read off the plot for just the bar+bulge components"
   ]
  },
  {
   "cell_type": "code",
   "execution_count": null,
   "metadata": {},
   "outputs": [],
   "source": [
    "x = [0, 1, 2, 3, 4, 6] * u.kpc\n",
    "x_sdens = ([4E9, 2.5E9, 8E8, 6.5E8, 4E8, 8E6] * u.Msun/u.kpc**2).to(u.Msun/u.pc**2)\n",
    "\n",
    "y = [0, 1, 2, 3, 4, 6] * u.kpc\n",
    "y_sdens = ([4E9, 6E8, 8E7, 6.5E7, 6.5E7, 5E6] * u.Msun/u.kpc**2).to(u.Msun/u.pc**2)\n",
    "\n",
    "plt.figure(figsize=(7,5))\n",
    "\n",
    "plt.semilogy(xy_Rs, surf_dens_x, marker='', ls='-', color='r')\n",
    "plt.semilogy(-xy_Rs, surf_dens_x, marker='', ls='-', color='r')\n",
    "plt.semilogy(xy_Rs, surf_dens_y, marker='', ls='-', color='b')\n",
    "plt.semilogy(-xy_Rs, surf_dens_y, marker='', ls='-', color='b')\n",
    "\n",
    "plt.semilogy(x, x_sdens, marker='o', color='r', ls='none', mec='k', mew=1.)\n",
    "plt.semilogy(y, y_sdens, marker='o', color='b', ls='none', mec='k', mew=1.)\n",
    "plt.semilogy(-x, x_sdens, marker='o', color='r', ls='none', mec='k', mew=1.)\n",
    "plt.semilogy(-y, y_sdens, marker='o', color='b', ls='none', mec='k', mew=1.)\n",
    "\n",
    "plt.xlim(-8.1, 8.1)\n",
    "plt.ylim(1E1, 1E4)\n",
    "plt.xlabel(r\"$x,y$ [kpc]\")\n",
    "plt.ylabel(r\"$\\Sigma(R)$ [${\\rm M}_\\odot \\, {\\rm pc}^{-2}$]\")"
   ]
  },
  {
   "cell_type": "markdown",
   "metadata": {},
   "source": [
    "These points were read off the plot for just the total baryonic"
   ]
  },
  {
   "cell_type": "code",
   "execution_count": null,
   "metadata": {},
   "outputs": [],
   "source": [
    "x = [0, 2, 4, 6, 8] * u.kpc\n",
    "x_sdens = ([4E9, 1E9, 5.5E8, 1E8, 4E7] * u.Msun/u.kpc**2).to(u.Msun/u.pc**2)\n",
    "\n",
    "y = [0, 1, 2, 4, 6, 8] * u.kpc\n",
    "y_sdens = ([4E9, 8E8, 2.2E8, 2E8, 1E8, 4E7] * u.Msun/u.kpc**2).to(u.Msun/u.pc**2)\n",
    "\n",
    "plt.figure(figsize=(7,5))\n",
    "\n",
    "plt.semilogy(xy_Rs, surf_dens_x, marker='', ls='-', color='r')\n",
    "plt.semilogy(-xy_Rs, surf_dens_x, marker='', ls='-', color='r')\n",
    "plt.semilogy(xy_Rs, surf_dens_y, marker='', ls='-', color='b')\n",
    "plt.semilogy(-xy_Rs, surf_dens_y, marker='', ls='-', color='b')\n",
    "\n",
    "plt.semilogy(x, x_sdens, marker='o', color='r', ls='none', mec='k', mew=1.)\n",
    "plt.semilogy(y, y_sdens, marker='o', color='b', ls='none', mec='k', mew=1.)\n",
    "plt.semilogy(-x, x_sdens, marker='o', color='r', ls='none', mec='k', mew=1.)\n",
    "plt.semilogy(-y, y_sdens, marker='o', color='b', ls='none', mec='k', mew=1.)\n",
    "\n",
    "plt.xlim(-8.1, 8.1)\n",
    "plt.ylim(1E1, 1E4)\n",
    "plt.xlabel(r\"$x,y$ [kpc]\")\n",
    "plt.ylabel(r\"$\\Sigma(R)$ [${\\rm M}_\\odot \\, {\\rm pc}^{-2}$]\")"
   ]
  },
  {
   "cell_type": "code",
   "execution_count": null,
   "metadata": {
    "collapsed": true
   },
   "outputs": [],
   "source": []
  }
 ],
 "metadata": {
  "kernelspec": {
   "display_name": "Python [conda env:barchaos]",
   "language": "python",
   "name": "conda-env-barchaos-py"
  },
  "language_info": {
   "codemirror_mode": {
    "name": "ipython",
    "version": 3
   },
   "file_extension": ".py",
   "mimetype": "text/x-python",
   "name": "python",
   "nbconvert_exporter": "python",
   "pygments_lexer": "ipython3",
   "version": "3.6.2"
  }
 },
 "nbformat": 4,
 "nbformat_minor": 2
}