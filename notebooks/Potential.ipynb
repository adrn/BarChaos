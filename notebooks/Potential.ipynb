{
 "cells": [
  {
   "cell_type": "code",
   "execution_count": null,
   "metadata": {
    "collapsed": true
   },
   "outputs": [],
   "source": [
    "from astropy.io import ascii\n",
    "import astropy.units as u\n",
    "from astropy.constants import G\n",
    "import matplotlib as mpl\n",
    "import matplotlib.pyplot as plt\n",
    "import numpy as np\n",
    "plt.style.use('apw-notebook')\n",
    "%matplotlib inline\n",
    "from scipy.integrate import simps\n",
    "\n",
    "import gala.dynamics as gd\n",
    "import gala.potential as gp\n",
    "from gala.units import galactic\n",
    "import biff.scf as bscf\n",
    "\n",
    "from barchaos.potential import Config\n",
    "from barchaos.potential import get_bar_potential"
   ]
  },
  {
   "cell_type": "code",
   "execution_count": null,
   "metadata": {},
   "outputs": [],
   "source": [
    "tbl = np.genfromtxt('../data/MW-Menc.txt', names=True, delimiter=',')\n",
    "sofue = ascii.read('../data/Sofue.dat')"
   ]
  },
  {
   "cell_type": "code",
   "execution_count": null,
   "metadata": {
    "collapsed": true
   },
   "outputs": [],
   "source": [
    "c = Config()\n",
    "c.Omega = 0.\n",
    "c.bar_mass = 1.32E9"
   ]
  },
  {
   "cell_type": "code",
   "execution_count": null,
   "metadata": {},
   "outputs": [],
   "source": [
    "pot_no_halo = gp.CCompositePotential()\n",
    "pot_no_halo['disk'] = gp.MiyamotoNagaiPotential(m=6E10*u.Msun,\n",
    "                                        a=3*u.kpc,\n",
    "                                        b=280*u.pc,\n",
    "                                        units=galactic)\n",
    "\n",
    "pot_no_halo['disk2'] = gp.MiyamotoNagaiPotential(m=2E10*u.Msun,\n",
    "                                         a=6.*u.kpc,\n",
    "                                         b=130*u.pc,\n",
    "                                         units=galactic)\n",
    "\n",
    "pot_no_halo['antidisk'] = gp.MiyamotoNagaiPotential(m=-2E10, \n",
    "                                                    a=2., b=0.28, \n",
    "                                                    units=galactic)\n",
    "\n",
    "pot_no_halo['SgrA*'] = gp.KeplerPotential(m=4E6*u.Msun,\n",
    "                                          units=galactic)\n",
    "\n",
    "pot_no_halo['nucl'] = gp.HernquistPotential(m=9E7*u.Msun,\n",
    "                                            c=10*u.pc,\n",
    "                                            units=galactic)\n",
    "\n",
    "pot_no_halo['spher'] = gp.HernquistPotential(m=6E9*u.Msun,\n",
    "                                        c=0.25*u.kpc,\n",
    "                                        units=galactic)\n",
    "pot_no_halo['bar'] = get_bar_potential()\n",
    "\n",
    "pot = pot_no_halo.copy()\n",
    "\n",
    "pot['halo'] = gp.NFWPotential(m=6.67E11, r_s=20*u.kpc,\n",
    "                              units=galactic)"
   ]
  },
  {
   "cell_type": "code",
   "execution_count": null,
   "metadata": {},
   "outputs": [],
   "source": [
    "(pot['bar'].mass_enclosed([10,0,0.]),\n",
    " pot.mass_enclosed([250.,0,0.]),\n",
    " pot.mass_enclosed([8.,0,0.]))"
   ]
  },
  {
   "cell_type": "code",
   "execution_count": null,
   "metadata": {},
   "outputs": [],
   "source": [
    "np.sqrt(G * 9.01047988e+10*u.Msun / (8*u.kpc)).to(u.km/u.s)"
   ]
  },
  {
   "cell_type": "code",
   "execution_count": null,
   "metadata": {},
   "outputs": [],
   "source": [
    "pot.circular_velocity([8.,0,0.])"
   ]
  },
  {
   "cell_type": "code",
   "execution_count": null,
   "metadata": {
    "collapsed": true
   },
   "outputs": [],
   "source": [
    "xyz = np.zeros((3, 256))\n",
    "xyz[0] = np.logspace(-3, 2.5, xyz.shape[1])"
   ]
  },
  {
   "cell_type": "code",
   "execution_count": null,
   "metadata": {},
   "outputs": [],
   "source": [
    "fig, axes = plt.subplots(1, 2, figsize=(12,6))\n",
    "\n",
    "axes[0].loglog(xyz[0], pot.mass_enclosed(xyz).value, marker='', lw=2.)\n",
    "axes[0].set_xlim(2E-3, 250.)\n",
    "axes[0].tick_params(which='both', right=True, top=True)\n",
    "axes[0].errorbar(tbl['r'], tbl['Menc'], yerr=(tbl['Menc_neg_err'], tbl['Menc_pos_err']),\n",
    "                 marker='o', ls='none')\n",
    "\n",
    "axes[1].plot(xyz[0], pot.circular_velocity(xyz).to(u.km/u.s), marker='', lw=2.)\n",
    "axes[1].plot(sofue['Radius'], sofue['Velocity'])\n",
    "\n",
    "axes[1].plot(xyz[0], pot['halo'].circular_velocity(xyz).to(u.km/u.s), \n",
    "             marker='', lw=1., alpha=0.5)\n",
    "\n",
    "disk_vc = np.sqrt(G * (pot['disk'].mass_enclosed(xyz) + \n",
    "                       pot['disk2'].mass_enclosed(xyz) + \n",
    "                       -pot['antidisk'].mass_enclosed(xyz)) / (xyz[0]*u.kpc)).to(u.km/u.s)\n",
    "axes[1].plot(xyz[0], disk_vc, marker='', lw=1., alpha=0.5)\n",
    "axes[1].plot(xyz[0], np.sqrt(pot['bar'].circular_velocity(xyz)**2 + \n",
    "                             pot['spher'].circular_velocity(xyz)**2 + \n",
    "                             pot['nucl'].circular_velocity(xyz)**2).to(u.km/u.s), \n",
    "             marker='', lw=1., alpha=0.5)\n",
    "\n",
    "axes[1].axhline(220.)\n",
    "axes[1].axvline(8.)\n",
    "axes[1].fill_between([0,20], 200., 240, alpha=0.4, color='#888888')\n",
    "axes[1].set_xlim(0, 20)\n",
    "axes[1].set_ylim(50, 280)\n",
    "axes[1].set_xlabel(\"$r$ [kpc]\")\n",
    "axes[1].set_ylabel(r\"$v_c$ [${\\rm km}\\,{\\rm s}^{-1}$]\")\n",
    "\n",
    "fig.tight_layout()"
   ]
  },
  {
   "cell_type": "markdown",
   "metadata": {},
   "source": [
    "### Compare surface density to measurements"
   ]
  },
  {
   "cell_type": "code",
   "execution_count": null,
   "metadata": {
    "collapsed": true
   },
   "outputs": [],
   "source": [
    "from scipy.integrate import quad"
   ]
  },
  {
   "cell_type": "code",
   "execution_count": null,
   "metadata": {
    "collapsed": true
   },
   "outputs": [],
   "source": [
    "def func(z, R, pot, axis=0):\n",
    "    q = np.array([0, 0, z])\n",
    "    q[axis] = R\n",
    "    return pot.density(q).value[0]"
   ]
  },
  {
   "cell_type": "markdown",
   "metadata": {},
   "source": [
    "Total surface mass density in stars from [Bovy 2012](http://iopscience.iop.org/article/10.1088/0004-637X/751/2/131/pdf)"
   ]
  },
  {
   "cell_type": "code",
   "execution_count": null,
   "metadata": {},
   "outputs": [],
   "source": [
    "Rs = np.linspace(4, 10, 16)\n",
    "surf_dens = np.zeros_like(Rs)\n",
    "\n",
    "for i,R in enumerate(Rs):\n",
    "    _surf_dens,_ = quad(func, -1.1, 1.1, args=(R, pot_no_halo))\n",
    "    surf_dens[i] = (_surf_dens*u.Msun/u.kpc**2).to(u.Msun/u.pc**2).value"
   ]
  },
  {
   "cell_type": "code",
   "execution_count": null,
   "metadata": {},
   "outputs": [],
   "source": [
    "plt.figure(figsize=(5,5))\n",
    "plt.semilogy(Rs, surf_dens, marker='', linestyle='-')\n",
    "plt.semilogy(Rs, 1.2E3*np.exp(-Rs/2.5), marker='', linestyle='-')\n",
    "plt.scatter(8., 38) # stars\n",
    "plt.scatter(8., 51) # stars+gas, according to Bovy and Rix\n",
    "plt.xlim(4, 10)\n",
    "plt.ylim(10, 1000)\n",
    "plt.xlabel(r\"$R$ [kpc]\")\n",
    "plt.ylabel(r\"$\\Sigma(R)$ [${\\rm M}_\\odot \\, {\\rm pc}^{-2}$]\")"
   ]
  },
  {
   "cell_type": "markdown",
   "metadata": {},
   "source": [
    "Surface mass densities read off of Fig. 3 in [Portail 2016](https://arxiv.org/pdf/1608.07954v2.pdf)"
   ]
  },
  {
   "cell_type": "code",
   "execution_count": null,
   "metadata": {},
   "outputs": [],
   "source": [
    "xy_Rs = np.logspace(-2, 1.4, 32)\n",
    "surf_dens_x = np.zeros_like(xy_Rs)\n",
    "surf_dens_y = np.zeros_like(xy_Rs)\n",
    "\n",
    "for i,R in enumerate(xy_Rs):\n",
    "    _surf_dens,_ = quad(func, -1.1, 1.1, args=(R, pot_no_halo, 0))\n",
    "    surf_dens_x[i] = (_surf_dens*u.Msun/u.kpc**2).to(u.Msun/u.pc**2).value\n",
    "    \n",
    "    _surf_dens,_ = quad(func, -1.1, 1.1, args=(R, pot_no_halo, 1))\n",
    "    surf_dens_y[i] = (_surf_dens*u.Msun/u.kpc**2).to(u.Msun/u.pc**2).value"
   ]
  },
  {
   "cell_type": "markdown",
   "metadata": {},
   "source": [
    "These points were read off the plot for just the total baryonic"
   ]
  },
  {
   "cell_type": "code",
   "execution_count": null,
   "metadata": {
    "scrolled": false
   },
   "outputs": [],
   "source": [
    "x = [0, 2, 4, 6, 8] * u.kpc\n",
    "x_sdens = ([4E9, 1E9, 5.5E8, 1E8, 4E7] * u.Msun/u.kpc**2).to(u.Msun/u.pc**2)\n",
    "\n",
    "y = [0, 1, 2, 4, 6, 8] * u.kpc\n",
    "y_sdens = ([4E9, 8E8, 2.2E8, 2E8, 1E8, 4E7] * u.Msun/u.kpc**2).to(u.Msun/u.pc**2)\n",
    "\n",
    "plt.figure(figsize=(7,5))\n",
    "\n",
    "plt.semilogy(xy_Rs, surf_dens_x, marker='', ls='-', color='r')\n",
    "plt.semilogy(-xy_Rs, surf_dens_x, marker='', ls='-', color='r')\n",
    "plt.semilogy(xy_Rs, surf_dens_y, marker='', ls='-', color='b')\n",
    "plt.semilogy(-xy_Rs, surf_dens_y, marker='', ls='-', color='b')\n",
    "\n",
    "plt.semilogy(x, x_sdens, marker='o', color='r', ls='none', mec='k', mew=1.)\n",
    "plt.semilogy(y, y_sdens, marker='o', color='b', ls='none', mec='k', mew=1.)\n",
    "plt.semilogy(-x, x_sdens, marker='o', color='r', ls='none', mec='k', mew=1.)\n",
    "plt.semilogy(-y, y_sdens, marker='o', color='b', ls='none', mec='k', mew=1.)\n",
    "\n",
    "plt.xlim(-8.1, 8.1)\n",
    "plt.ylim(1E1, 1E4)\n",
    "plt.xlabel(r\"$x,y$ [kpc]\")\n",
    "plt.ylabel(r\"$\\Sigma(R)$ [${\\rm M}_\\odot \\, {\\rm pc}^{-2}$]\")"
   ]
  },
  {
   "cell_type": "code",
   "execution_count": null,
   "metadata": {},
   "outputs": [],
   "source": [
    "def density_on_grid(density, grid_lim=(-10,10), ngrid=128):\n",
    "    grid = np.linspace(grid_lim[0], grid_lim[1], ngrid)\n",
    "    xyz = np.vstack(map(np.ravel, np.meshgrid(grid,grid,grid)))\n",
    "\n",
    "    val = np.zeros((ngrid*ngrid*ngrid,))\n",
    "    val = density(xyz).value\n",
    "    val[np.isnan(val)] = val[np.isfinite(val)].max()\n",
    "    \n",
    "    gridx = xyz[0].reshape(ngrid,ngrid,ngrid)[:,:,0]\n",
    "    gridy = xyz[1].reshape(ngrid,ngrid,ngrid)[:,:,0]\n",
    "    \n",
    "    return gridx, gridy, val"
   ]
  },
  {
   "cell_type": "code",
   "execution_count": null,
   "metadata": {},
   "outputs": [],
   "source": [
    "ngrid = 128\n",
    "# xx,yy,dens3d = density_on_grid(pot_no_halo.density, ngrid=ngrid, grid_lim=(-8,8))\n",
    "xx,yy,dens3d = density_on_grid(pot.density, ngrid=ngrid, grid_lim=(-8,8))\n",
    "dens3d = dens3d.reshape(ngrid,ngrid,ngrid)"
   ]
  },
  {
   "cell_type": "code",
   "execution_count": null,
   "metadata": {},
   "outputs": [],
   "source": [
    "levels = np.logspace(7., 10, 16)\n",
    "norm = mpl.colors.LogNorm(vmin=levels.min(), vmax=levels.max())\n",
    "# norm = mpl.colors.Normalize(vmin=levels.min(), vmax=levels.max())\n",
    "\n",
    "# Used for integration:\n",
    "_x = np.linspace(xx.min(), xx.max(), xx.shape[0])\n",
    "\n",
    "fig, axes = plt.subplots(1, 2, figsize=(10,4.8))\n",
    "\n",
    "dens2d = simps(dens3d, x=_x, axis=2)\n",
    "axes[0].pcolormesh(xx, yy, dens2d, cmap='magma', norm=norm)\n",
    "axes[0].contour(xx, yy, dens2d, \n",
    "                levels=levels,\n",
    "                colors='k', alpha=0.75, linewidths=1)\n",
    "\n",
    "dens2d = simps(dens3d, x=_x, axis=0)\n",
    "axes[1].pcolormesh(xx, yy, dens2d.T, cmap='magma', norm=norm)\n",
    "axes[1].contour(xx, yy, dens2d.T,\n",
    "                levels=levels,\n",
    "                colors='k', alpha=0.75, linewidths=1)"
   ]
  },
  {
   "cell_type": "code",
   "execution_count": null,
   "metadata": {
    "collapsed": true
   },
   "outputs": [],
   "source": []
  },
  {
   "cell_type": "code",
   "execution_count": null,
   "metadata": {
    "collapsed": true
   },
   "outputs": [],
   "source": []
  },
  {
   "cell_type": "code",
   "execution_count": null,
   "metadata": {
    "collapsed": true
   },
   "outputs": [],
   "source": []
  }
 ],
 "metadata": {
  "kernelspec": {
   "display_name": "Python [conda env:barchaos]",
   "language": "python",
   "name": "conda-env-barchaos-py"
  },
  "language_info": {
   "codemirror_mode": {
    "name": "ipython",
    "version": 3
   },
   "file_extension": ".py",
   "mimetype": "text/x-python",
   "name": "python",
   "nbconvert_exporter": "python",
   "pygments_lexer": "ipython3",
   "version": "3.6.2"
  }
 },
 "nbformat": 4,
 "nbformat_minor": 2
}